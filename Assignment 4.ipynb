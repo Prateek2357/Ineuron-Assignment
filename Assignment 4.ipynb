{
 "cells": [
  {
   "cell_type": "code",
   "execution_count": null,
   "id": "e4c80bf2",
   "metadata": {},
   "outputs": [],
   "source": [
    "1. What exactly is []?\n",
    "Ans- It is a empty list, that has no value assigned, we can append items in it."
   ]
  },
  {
   "cell_type": "code",
   "execution_count": null,
   "id": "7eac4115",
   "metadata": {},
   "outputs": [],
   "source": [
    "2. Q-2 In a list of values stored in a variable called spam, how would you assign the value 'hello' as the third value? (Assume [2, 4, 6, 8, 10] are in spam.)\n",
    "A: spam.insert('2', \"Hello\")\n",
    "    Ans: spam.insert(2, \"Hello\")"
   ]
  },
  {
   "cell_type": "code",
   "execution_count": null,
   "id": "aee95910",
   "metadata": {},
   "outputs": [],
   "source": [
    "Let's pretend the spam includes the list ['a', 'b', 'c', 'd'] for the next three queries."
   ]
  },
  {
   "cell_type": "code",
   "execution_count": null,
   "id": "a211a108",
   "metadata": {},
   "outputs": [],
   "source": [
    "3. What is the value of spam[int(int('3' * 2) / 11)]?\n",
    "Ans- 'd'"
   ]
  },
  {
   "cell_type": "code",
   "execution_count": null,
   "id": "3f4773b1",
   "metadata": {},
   "outputs": [],
   "source": [
    "4. What is the value of spam[-1]?\n",
    "Ans- 'd'"
   ]
  },
  {
   "cell_type": "code",
   "execution_count": null,
   "id": "6d89895a",
   "metadata": {},
   "outputs": [],
   "source": [
    "5. What is the value of spam[:2]?\n",
    "Ans- ['a','b']"
   ]
  },
  {
   "cell_type": "code",
   "execution_count": null,
   "id": "a2d31a98",
   "metadata": {},
   "outputs": [],
   "source": [
    "Let's pretend bacon has the list [3.14, 'cat,' 11, 'cat,' True] for the next three questions."
   ]
  },
  {
   "cell_type": "code",
   "execution_count": null,
   "id": "b4e7ff01",
   "metadata": {},
   "outputs": [],
   "source": [
    "6. What is the value of bacon.index('cat')?\n",
    "Ans- 1"
   ]
  },
  {
   "cell_type": "code",
   "execution_count": null,
   "id": "d10e05ae",
   "metadata": {},
   "outputs": [],
   "source": [
    "7. How does bacon.append(99) change the look of the list value in bacon?\n",
    "Ans- [3.14, 'cat,' 11, 'cat', True, 99]"
   ]
  },
  {
   "cell_type": "code",
   "execution_count": null,
   "id": "dc1f6724",
   "metadata": {},
   "outputs": [],
   "source": [
    "8. How does bacon.remove('cat') change the look of the list in bacon?\n",
    "Ans- [3.14, 11, True, 99]"
   ]
  },
  {
   "cell_type": "code",
   "execution_count": null,
   "id": "d68263cc",
   "metadata": {},
   "outputs": [],
   "source": [
    "9. What are the list concatenation and list replication operators?\n",
    "Ans- The operator for list concatenation is +, while for replication is *"
   ]
  },
  {
   "cell_type": "code",
   "execution_count": null,
   "id": "847fb2a3",
   "metadata": {},
   "outputs": [],
   "source": [
    "10. What is difference between the list methods append() and insert()?\n",
    "Ans- In list, append() will insert the value at the last index no. while insert() method will insert the value at \n",
    "desried index no. "
   ]
  },
  {
   "cell_type": "code",
   "execution_count": null,
   "id": "3101a73e",
   "metadata": {},
   "outputs": [],
   "source": [
    "11. What are the two methods for removing items from a list?\n",
    "Ans- The two methods for removing items from a list are pop() and remove()"
   ]
  },
  {
   "cell_type": "code",
   "execution_count": null,
   "id": "48d7019e",
   "metadata": {},
   "outputs": [],
   "source": [
    "12. Describe how list values and string values are identical.\n",
    "Ans- The list & string both are used to store data/value & both are sequential, every character or element has particular index."
   ]
  },
  {
   "cell_type": "code",
   "execution_count": null,
   "id": "0e6f82f5",
   "metadata": {},
   "outputs": [],
   "source": [
    "13. What's the difference between tuples and lists?\n",
    "Ans- The List is mutable while tuple is immutable. Second difference is bracket to store cvalues, In list we use [] square bracket to store the values\n",
    "while () round bracket is used in tuple to store the values."
   ]
  },
  {
   "cell_type": "code",
   "execution_count": null,
   "id": "f4f4cf02",
   "metadata": {},
   "outputs": [],
   "source": [
    "14. How do you type a tuple value that only contains the integer 42?\n",
    "Ans- a = (42)"
   ]
  },
  {
   "cell_type": "code",
   "execution_count": null,
   "id": "52a21ce3",
   "metadata": {},
   "outputs": [],
   "source": [
    "15. How do you get a list value's tuple form? How do you get a tuple value's list form?\n",
    "Ans- To get the list value's tuple form, use - list()\n",
    "To get the tuple value's lst form, write the tuple in []square bracket as list = [(....), (.....)]"
   ]
  },
  {
   "cell_type": "code",
   "execution_count": null,
   "id": "b8d6a7a4",
   "metadata": {},
   "outputs": [],
   "source": [
    "16. Variables that \"contain\" list values are not necessarily lists themselves. Instead, what do they contain?\n",
    "Ans- In list, apart from values it can contain tuple, set as well as dictionary. "
   ]
  },
  {
   "cell_type": "code",
   "execution_count": null,
   "id": "fc202fd9",
   "metadata": {},
   "outputs": [],
   "source": [
    "17. How do you distinguish between copy.copy() and copy.deepcopy()?\n",
    "A: Copy,copy if we change copied object then original object get changed, while in case of copy.deepcopy if we change copied object then no change in the original object"
   ]
  },
  {
   "cell_type": "code",
   "execution_count": null,
   "id": "5329cae6",
   "metadata": {},
   "outputs": [],
   "source": []
  }
 ],
 "metadata": {
  "kernelspec": {
   "display_name": "Python 3 (ipykernel)",
   "language": "python",
   "name": "python3"
  },
  "language_info": {
   "codemirror_mode": {
    "name": "ipython",
    "version": 3
   },
   "file_extension": ".py",
   "mimetype": "text/x-python",
   "name": "python",
   "nbconvert_exporter": "python",
   "pygments_lexer": "ipython3",
   "version": "3.9.7"
  }
 },
 "nbformat": 4,
 "nbformat_minor": 5
}
