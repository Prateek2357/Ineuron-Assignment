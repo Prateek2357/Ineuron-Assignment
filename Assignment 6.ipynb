{
 "cells": [
  {
   "cell_type": "code",
   "execution_count": null,
   "id": "0d380c24",
   "metadata": {},
   "outputs": [],
   "source": [
    "1. What are escape characters, and how do you use them?\n",
    "2. What do the escape characters n and t stand for?\n",
    "3. What is the way to include backslash characters in a string?\n",
    "4. The string \"Howl's Moving Castle\" is a correct value. Why isn't the single quote character in the word Howl's not escaped a problem?\n",
    "5. How do you write a string of newlines if you don't want to use the n character?\n",
    "6. What are the values of the given expressions?\n",
    "'Hello, world!'[1]\n",
    "'Hello, world!'[0:5]\n",
    "'Hello, world!'[:5]\n",
    "'Hello, world!'[3:]\n",
    "\n",
    "7. What are the values of the following expressions?\n",
    "'Hello'.upper()\n",
    "'Hello'.upper().isupper()\n",
    "'Hello'.upper().lower()\n",
    "8. What are the values of the following expressions?\n",
    "'Remember, remember, the fifth of July.'.split()\n",
    "'-'.join('There can only one.'.split())\n",
    "9. What are the methods for right-justifying, left-justifying, and centering a string?\n",
    "10. What is the best way to remove whitespace characters from the start or end?\n"
   ]
  },
  {
   "cell_type": "code",
   "execution_count": null,
   "id": "9e7c29a4",
   "metadata": {},
   "outputs": [],
   "source": [
    "1. What are escape characters, and how do you use them?\n",
    "A: Escape Character contain backlash followed by one of sequence character defined.\n",
    "    we can use it as  \\t, \\n."
   ]
  },
  {
   "cell_type": "code",
   "execution_count": null,
   "id": "e099faa2",
   "metadata": {},
   "outputs": [],
   "source": [
    "2. What do the escape characters n and t stand for?\n",
    "A: escape character n is use when we want to things to get printed  to next line, while t is use when we want to insert space between characters"
   ]
  },
  {
   "cell_type": "code",
   "execution_count": null,
   "id": "0ff07f7a",
   "metadata": {},
   "outputs": [],
   "source": [
    "3. What is the way to include backslash characters in a string?\n",
    "A: To include backlash character it is followed by \\\n",
    "    for Ex: print( \"My name is \\t \"Prateek Porwal\\\"\")"
   ]
  },
  {
   "cell_type": "code",
   "execution_count": 5,
   "id": "8e3057b6",
   "metadata": {},
   "outputs": [
    {
     "data": {
      "text/plain": [
       "'my name is \"Prateek Porwal\"'"
      ]
     },
     "execution_count": 5,
     "metadata": {},
     "output_type": "execute_result"
    }
   ],
   "source": [
    "4. The string \"Howl's Moving Castle\" is a correct value. Why isn't the single quote character in the word Howl's not escaped a problem?\n",
    "A: \" Because the string is written in between double quote \"\"."
   ]
  },
  {
   "cell_type": "code",
   "execution_count": 9,
   "id": "8913b34e",
   "metadata": {},
   "outputs": [],
   "source": [
    "5. How do you write a string of newlines if you don't want to use the n character?\n",
    "A: To print in new line we are suppose to use print command two times. first print and then below to first print\n",
    "    \n",
    "    For ex: print(a)\n",
    "            print(b)"
   ]
  },
  {
   "cell_type": "code",
   "execution_count": 11,
   "id": "d3fd4e1c",
   "metadata": {},
   "outputs": [
    {
     "name": "stdout",
     "output_type": "stream",
     "text": [
      "Foo"
     ]
    }
   ],
   "source": [
    "6. What are the values of the given expressions?\n",
    "'Hello, world!'[1]\n",
    "'Hello, world!'[0:5]\n",
    "'Hello, world!'[:5]\n",
    "'Hello, world!'[3:]\n",
    "\n",
    "\n",
    "A:\n",
    "'e'\n",
    "'Hello'\n",
    "\"Hello\"\n",
    "'lo, world'"
   ]
  },
  {
   "cell_type": "code",
   "execution_count": null,
   "id": "87b5ca42",
   "metadata": {},
   "outputs": [],
   "source": [
    "\n",
    "7. What are the values of the following expressions?\n",
    "'Hello'.upper()\n",
    "'Hello'.upper().isupper()\n",
    "'Hello'.upper().lower()\n",
    "\n",
    "A: HELLO\n",
    "   TRUE\n",
    "   FALSE"
   ]
  },
  {
   "cell_type": "code",
   "execution_count": null,
   "id": "5c68312b",
   "metadata": {},
   "outputs": [],
   "source": [
    "8. What are the values of the following expressions?\n",
    "'Remember, remember, the fifth of July.'.split()\n",
    "'-'.join('There can only one.'.split())\n",
    "\n",
    "A: ['Remember', 'remember', 'the', 'fifth', 'of' , 'July.']\n",
    "'There can only one.'"
   ]
  },
  {
   "cell_type": "code",
   "execution_count": null,
   "id": "9acfa6fb",
   "metadata": {},
   "outputs": [],
   "source": [
    "9. What are the methods for right-justifying, left-justifying, and centering a string?\n",
    "\n",
    "A: right.justifying - rjust()\n",
    "    left.justifying -ljust()\n",
    "    centering - center ()"
   ]
  },
  {
   "cell_type": "code",
   "execution_count": null,
   "id": "17403595",
   "metadata": {},
   "outputs": [],
   "source": [
    "10. What is the best way to remove whitespace characters from the start or end?\n",
    "A: The lstrip( and rstrip() are the best way to remove whitespace from start or end"
   ]
  }
 ],
 "metadata": {
  "kernelspec": {
   "display_name": "Python 3 (ipykernel)",
   "language": "python",
   "name": "python3"
  },
  "language_info": {
   "codemirror_mode": {
    "name": "ipython",
    "version": 3
   },
   "file_extension": ".py",
   "mimetype": "text/x-python",
   "name": "python",
   "nbconvert_exporter": "python",
   "pygments_lexer": "ipython3",
   "version": "3.9.7"
  }
 },
 "nbformat": 4,
 "nbformat_minor": 5
}
