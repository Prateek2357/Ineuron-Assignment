{
 "cells": [
  {
   "cell_type": "code",
   "execution_count": null,
   "id": "526e85ca",
   "metadata": {},
   "outputs": [],
   "source": [
    "1. In the below elements which of them are values or an expression? eg:- values can be integer or string and expressions will be mathematical operators.\n",
    "* \n",
    "'hello'\n",
    "-87.8\n",
    "- \n",
    "/ \n",
    "+\t\n",
    "6 \n",
    "\n",
    "\n",
    "Answer:\n",
    "\n",
    "*          -  expression\n",
    "'hello'    -  Value\n",
    "-87.8      - Value\n",
    "-          - expression\n",
    "/          - expression\n",
    "+          - expression\n",
    "6          -  Value"
   ]
  },
  {
   "cell_type": "code",
   "execution_count": null,
   "id": "29817bb9",
   "metadata": {},
   "outputs": [],
   "source": [
    "2. What is the difference between string and variable?\n",
    "\n",
    "Answer:\n",
    "\n",
    "String - String is a collection of Alphabets, Numerals and Characters.\n",
    "Valiable - Variable is a temporary or permanent memory location where we want our dataset to get stored."
   ]
  },
  {
   "cell_type": "code",
   "execution_count": null,
   "id": "88a47318",
   "metadata": {},
   "outputs": [],
   "source": [
    "3. Describe three different data types.\n",
    "\n",
    "Answer: \n",
    "\n",
    "Boolean    - Either True or False, entity which give result in only true & False\n",
    "Float      - Float are those numbers which can be represent on number line from negative infinity to positive infinity, it always have decimal values\n",
    "String  -   String is a collection of Alphabets, Numerals and Characters."
   ]
  },
  {
   "cell_type": "code",
   "execution_count": null,
   "id": "d9e514ad",
   "metadata": {},
   "outputs": [],
   "source": [
    "4. What is an expression made up of? What do all expressions do?\n",
    "\n",
    "Answer:\n",
    "\n",
    "Expression is made up of Values and operators, An expression is an instruction that combines values and operators and always results to a single value."
   ]
  },
  {
   "cell_type": "code",
   "execution_count": null,
   "id": "7709e14a",
   "metadata": {},
   "outputs": [],
   "source": [
    "5. This assignment statements, like spam = 10. What is the difference between an expression and a statement?\n",
    "\n",
    "Answer: An statement is an action or command to do something, while expression  is made up of Values and operators, An expression is an instruction that combines values and operators and always results to a single value."
   ]
  },
  {
   "cell_type": "code",
   "execution_count": null,
   "id": "59268c23",
   "metadata": {},
   "outputs": [],
   "source": [
    "6. After running the following code, what does the variable bacon contain?\n",
    "bacon = 22\n",
    "bacon + 1\n",
    "\n",
    "Answer:\n",
    "Bacon = 23"
   ]
  },
  {
   "cell_type": "code",
   "execution_count": null,
   "id": "b097daca",
   "metadata": {},
   "outputs": [],
   "source": [
    "7. What should the values of the following two terms be?\n",
    "'spam' + 'spamspam'\n",
    "'spam' * 3\n",
    "\n",
    "Answer:\n",
    "    \n",
    "'spamspamspam'"
   ]
  },
  {
   "cell_type": "code",
   "execution_count": null,
   "id": "1d51030d",
   "metadata": {},
   "outputs": [],
   "source": [
    "8. Why is eggs a valid variable name while 100 is invalid?\n",
    "\n",
    "Answer:\n",
    "\n",
    "Eggs is a valid variable beacause it is nowhere defined in system library, while 100 is defined in system library and it represents its unique significant value."
   ]
  },
  {
   "cell_type": "code",
   "execution_count": null,
   "id": "12bf2f1f",
   "metadata": {},
   "outputs": [],
   "source": [
    "9. What three functions can be used to get the integer, floating-point number, or string version of a value?\n",
    "Answer:\n",
    "    \n",
    "For Integer: Data Type used int\n",
    "For floating-point number: Data Type used Float\n",
    "For Integer: Data Type used string"
   ]
  },
  {
   "cell_type": "code",
   "execution_count": null,
   "id": "3498919c",
   "metadata": {},
   "outputs": [],
   "source": [
    "10. Why does this expression cause an error? How can you fix it?\n",
    "'I have eaten ' + 99 + ' burritos.'\n",
    "\n",
    "\n",
    "Answer:\n",
    "Because we are adding different datatypes, to add datatypes it must be of same type.\n",
    "so if we want to fix this expression then we need to conver 99 i.e from integer to string \n",
    "\n",
    "'I have eaten ' + str(99) + ' burritos.'"
   ]
  }
 ],
 "metadata": {
  "kernelspec": {
   "display_name": "Python 3 (ipykernel)",
   "language": "python",
   "name": "python3"
  },
  "language_info": {
   "codemirror_mode": {
    "name": "ipython",
    "version": 3
   },
   "file_extension": ".py",
   "mimetype": "text/x-python",
   "name": "python",
   "nbconvert_exporter": "python",
   "pygments_lexer": "ipython3",
   "version": "3.9.7"
  }
 },
 "nbformat": 4,
 "nbformat_minor": 5
}
