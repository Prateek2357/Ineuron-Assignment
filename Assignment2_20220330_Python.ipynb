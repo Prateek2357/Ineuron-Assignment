{
 "cells": [
  {
   "cell_type": "code",
   "execution_count": null,
   "id": "722ba9cf",
   "metadata": {},
   "outputs": [],
   "source": [
    "1.What are the two values of the Boolean data type? How do you write them?\n",
    "\n",
    "Ans: True and False.\n",
    "A= True\n",
    "A=False\n"
   ]
  },
  {
   "cell_type": "code",
   "execution_count": null,
   "id": "962cde29",
   "metadata": {},
   "outputs": [],
   "source": [
    "2. What are the three different types of Boolean operators?\n",
    "Ans: AND\n",
    "OR\n",
    "NOT"
   ]
  },
  {
   "cell_type": "code",
   "execution_count": null,
   "id": "30b55a18",
   "metadata": {},
   "outputs": [],
   "source": [
    "3. Make a list of each Boolean operator's truth tables (i.e. every possible combination of Boolean values for the operator and what it evaluate ).\n",
    "AND\n",
    "True + True = True\n",
    "True + False = False\n",
    "False + True = False\n",
    "False + False = False\n",
    "\n",
    "OR\n",
    "True + True = True\n",
    "True + False = True\n",
    "False + True = True\n",
    "False + False = False\n",
    "\n",
    "Not\n",
    "\n",
    "False = True\n",
    "True = False"
   ]
  },
  {
   "cell_type": "code",
   "execution_count": null,
   "id": "2f5195c2",
   "metadata": {},
   "outputs": [],
   "source": [
    "4. What are the values of the following expressions?\n",
    "Answers:\n",
    "\n",
    "(5 > 4) and (3 == 5) = False\n",
    "not (5 > 4)= False\n",
    "(5 > 4) or (3 == 5)= True\n",
    "not ((5 > 4) or (3 == 5))= False\n",
    "(True and True) and (True == False)=False\n",
    "(not False) or (not True)=True"
   ]
  },
  {
   "cell_type": "code",
   "execution_count": null,
   "id": "9ea7dc9d",
   "metadata": {},
   "outputs": [],
   "source": [
    "5. What are the six comparison operators?\n",
    "Answers\n",
    "\n",
    "Greater Than>\n",
    "Lesser than <\n",
    "Equal to ==\n",
    "Not equal to !=\n",
    "Greater Than equal to >=\n",
    "Lesser than equal to <="
   ]
  },
  {
   "cell_type": "code",
   "execution_count": null,
   "id": "f7ce344d",
   "metadata": {},
   "outputs": [],
   "source": [
    "6. How do you tell the difference between the equal to and assignment operators?Describe a condition and when you would use one.\n",
    "\n",
    "Equal to Operator: When we are compairing two entities or value then we use equal to operator:\n",
    "for ex: if A==B:\n",
    "Assignment operator: When we assign some value to a variable then we use assignment operator.\n",
    "for ex: A=10"
   ]
  },
  {
   "cell_type": "code",
   "execution_count": null,
   "id": "6e76b762",
   "metadata": {},
   "outputs": [],
   "source": [
    "Correct Code:\n",
    "    \n",
    "    \n",
    "spam = 0\n",
    "if spam == 10:\n",
    "    print(\"eggs\")\n",
    "if spam > 5:\n",
    "    print('bacon')\n",
    "else:\n",
    "    print('ham')\n",
    "    print('spam')\n",
    "    print('spam')"
   ]
  },
  {
   "cell_type": "code",
   "execution_count": null,
   "id": "fac88d21",
   "metadata": {},
   "outputs": [],
   "source": [
    "\n",
    "spam=int(input(\"Enter Value\"))\n",
    "if spam==1:\n",
    "    print(\"Hello\")\n",
    "elif spam ==2:\n",
    "    print(\"Howdy\")\n",
    "else:\n",
    "    print(\"Greetings!\")"
   ]
  },
  {
   "cell_type": "code",
   "execution_count": null,
   "id": "567e702e",
   "metadata": {},
   "outputs": [],
   "source": [
    "9.If your programme is stuck in an endless loop, what keys you’ll press?\n",
    "\n",
    "Answer: ctrl+c"
   ]
  },
  {
   "cell_type": "code",
   "execution_count": null,
   "id": "ea0470ff",
   "metadata": {},
   "outputs": [],
   "source": [
    "10. How can you tell the difference between break and continue?\n",
    "\n",
    "Break Statement stopped rest of the iteration to get run if the code get the assigned value or assigned condition. it saves time\n",
    "\n",
    "Continue Statement: When a certain value reached then the code skip that value and keep running till the end."
   ]
  },
  {
   "cell_type": "code",
   "execution_count": null,
   "id": "54d7dbb0",
   "metadata": {},
   "outputs": [],
   "source": [
    "11. In a for loop, what is the difference between range(10), range(0, 10), and range(0, 10, 1)?\n",
    "Range(10): Here its indicates only end value of loop by default it will start from zero\n",
    "range(0, 10): Here 0 refers start value of range and 10 refers end value of range, it will terminated at 9.\n",
    "range(0,10,1): Here 0 refers start value of range and 10 refers end value of range and 1 refer step or jup from one value to next"
   ]
  },
  {
   "cell_type": "code",
   "execution_count": null,
   "id": "3861f865",
   "metadata": {},
   "outputs": [],
   "source": [
    "12. Write a short program that prints the numbers 1 to 10 using a for loop. Then write an equivalent program that prints the numbers 1 to 10 using a while loop."
   ]
  },
  {
   "cell_type": "code",
   "execution_count": null,
   "id": "7973424b",
   "metadata": {},
   "outputs": [],
   "source": [
    "for i in range(1,11):\n",
    "    print(i)\n",
    "i=1\n",
    "while i<11:\n",
    "    print(i)\n",
    "    i=i+1"
   ]
  },
  {
   "cell_type": "code",
   "execution_count": null,
   "id": "4b45f2e1",
   "metadata": {},
   "outputs": [],
   "source": [
    "13. If you had a function named bacon() inside a module named spam, how would you call it after importing spam?\n",
    "Answer:\n",
    "spam.bacon()"
   ]
  },
  {
   "cell_type": "code",
   "execution_count": null,
   "id": "7437ebde",
   "metadata": {},
   "outputs": [],
   "source": []
  },
  {
   "cell_type": "code",
   "execution_count": null,
   "id": "ec5d70a9",
   "metadata": {},
   "outputs": [],
   "source": []
  }
 ],
 "metadata": {
  "kernelspec": {
   "display_name": "Python 3 (ipykernel)",
   "language": "python",
   "name": "python3"
  },
  "language_info": {
   "codemirror_mode": {
    "name": "ipython",
    "version": 3
   },
   "file_extension": ".py",
   "mimetype": "text/x-python",
   "name": "python",
   "nbconvert_exporter": "python",
   "pygments_lexer": "ipython3",
   "version": "3.9.7"
  }
 },
 "nbformat": 4,
 "nbformat_minor": 5
}
