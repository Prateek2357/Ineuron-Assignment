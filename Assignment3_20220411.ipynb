{
 "cells": [
  {
   "cell_type": "code",
   "execution_count": null,
   "id": "377a6db4",
   "metadata": {},
   "outputs": [],
   "source": [
    "Q-1 Why are functions advantageous to have in your programs?\n",
    "Functions are advantageous to have in our program as it save time of user to write same code again and again if the same logic is used at different places."
   ]
  },
  {
   "cell_type": "code",
   "execution_count": null,
   "id": "3e26ee4e",
   "metadata": {},
   "outputs": [],
   "source": [
    "Q- 2. When does the code in a function run: when it's specified or when it's called?\n",
    "A- Function get executed when it gets called."
   ]
  },
  {
   "cell_type": "code",
   "execution_count": null,
   "id": "158b23a3",
   "metadata": {},
   "outputs": [],
   "source": [
    "3. What statement creates a function?\n",
    "we can create function by using def keyword\n"
   ]
  },
  {
   "cell_type": "code",
   "execution_count": null,
   "id": "90d75bd4",
   "metadata": {},
   "outputs": [],
   "source": [
    "4. What is the difference between a function and a function call?\n",
    "function is to create a function by using certain parameters, while function call is to call the function by passing particular value"
   ]
  },
  {
   "cell_type": "code",
   "execution_count": null,
   "id": "ab8c2e8b",
   "metadata": {},
   "outputs": [],
   "source": [
    "5. How many global scopes are there in a Python program? How many local scopes?\n",
    "Global Scope: 1\n",
    "Local Scope: Unlimited"
   ]
  },
  {
   "cell_type": "code",
   "execution_count": null,
   "id": "a073c96b",
   "metadata": {},
   "outputs": [],
   "source": [
    "6. What happens to variables in a local scope when the function call returns?\n",
    "\n",
    "\n",
    "A: The variable value get lost after the function get executed."
   ]
  },
  {
   "cell_type": "code",
   "execution_count": null,
   "id": "94e0ed00",
   "metadata": {},
   "outputs": [],
   "source": [
    "7. What is the concept of a return value? Is it possible to have a return value in an expression?\n",
    "A: Return Value return the final value after the execution of function, No it is not possible in case of expression."
   ]
  },
  {
   "cell_type": "code",
   "execution_count": null,
   "id": "18de0a9e",
   "metadata": {},
   "outputs": [],
   "source": [
    "8. If a function does not have a return statement, what is the return value of a call to that function?\n",
    "A: After calling that function it will return up with no value."
   ]
  },
  {
   "cell_type": "code",
   "execution_count": null,
   "id": "f77a7ad0",
   "metadata": {},
   "outputs": [],
   "source": [
    " 9: How do you make a function variable refer to the global variable?\n",
    "A: By Assigning Value to that variable outside the function definition."
   ]
  },
  {
   "cell_type": "code",
   "execution_count": null,
   "id": "65980e7f",
   "metadata": {},
   "outputs": [],
   "source": [
    "10. What is the data type of None?\n",
    "A: None variable has none datatype."
   ]
  },
  {
   "cell_type": "code",
   "execution_count": null,
   "id": "288b032f",
   "metadata": {},
   "outputs": [],
   "source": [
    "11. What does the sentence import areallyourpetsnamederic do?\n",
    "A: This will import module named as areallyourpetsnamederic in to python file."
   ]
  },
  {
   "cell_type": "code",
   "execution_count": null,
   "id": "0866637a",
   "metadata": {},
   "outputs": [],
   "source": [
    "12. If you had a bacon() feature in a spam module, what would you call it after importing spam?\n",
    "A: spam.bacon()"
   ]
  },
  {
   "cell_type": "code",
   "execution_count": null,
   "id": "47a56135",
   "metadata": {},
   "outputs": [],
   "source": [
    "13. What can you do to save a programme from crashing if it encounters an error?\n",
    "A: By defing the program in between try and except statements."
   ]
  },
  {
   "cell_type": "code",
   "execution_count": null,
   "id": "313699fe",
   "metadata": {},
   "outputs": [],
   "source": [
    "14. What is the purpose of the try clause? What is the purpose of the except clause?\n",
    "A: Try Clause Purpose is to get executed when the is no error in the program while except clause get executed when the program encounter error."
   ]
  }
 ],
 "metadata": {
  "kernelspec": {
   "display_name": "Python 3 (ipykernel)",
   "language": "python",
   "name": "python3"
  },
  "language_info": {
   "codemirror_mode": {
    "name": "ipython",
    "version": 3
   },
   "file_extension": ".py",
   "mimetype": "text/x-python",
   "name": "python",
   "nbconvert_exporter": "python",
   "pygments_lexer": "ipython3",
   "version": "3.9.7"
  }
 },
 "nbformat": 4,
 "nbformat_minor": 5
}
